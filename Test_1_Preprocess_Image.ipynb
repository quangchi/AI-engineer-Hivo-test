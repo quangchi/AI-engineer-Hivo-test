{
 "cells": [
  {
   "cell_type": "code",
   "execution_count": 1,
   "id": "68250e50-a9c9-4426-b1e6-60c671657c80",
   "metadata": {},
   "outputs": [],
   "source": [
    "from image_processor import ImageProcessor\n",
    "import numpy as np\n",
    "import matplotlib.pyplot as plt"
   ]
  },
  {
   "cell_type": "code",
   "execution_count": 2,
   "id": "5c7e68ac-33c4-498b-96c2-a1a89ee897ac",
   "metadata": {},
   "outputs": [
    {
     "name": "stdout",
     "output_type": "stream",
     "text": [
      "--------------\n"
     ]
    }
   ],
   "source": [
    "processor = ImageProcessor()"
   ]
  },
  {
   "cell_type": "markdown",
   "id": "87164cf7-699d-48cb-ab24-8e771916ec33",
   "metadata": {},
   "source": [
    "Test 1: Preprocess Image"
   ]
  },
  {
   "cell_type": "code",
   "execution_count": 3,
   "id": "30aa1662-242b-46e9-9483-ddec08849322",
   "metadata": {},
   "outputs": [],
   "source": [
    "with open('images/demo/test_image.jpg', 'rb') as f:\n",
    "    image_data = f.read()\n",
    "processed_image = processor.preprocess_image(image_data)\n",
    "assert processed_image is not None\n",
    "assert processed_image.shape[2] == 3  # RGB image"
   ]
  },
  {
   "cell_type": "code",
   "execution_count": null,
   "id": "1fb38884-5f68-4c7c-93a0-a9ff3dec56e7",
   "metadata": {},
   "outputs": [],
   "source": []
  }
 ],
 "metadata": {
  "kernelspec": {
   "display_name": "Python 3 (ipykernel)",
   "language": "python",
   "name": "python3"
  },
  "language_info": {
   "codemirror_mode": {
    "name": "ipython",
    "version": 3
   },
   "file_extension": ".py",
   "mimetype": "text/x-python",
   "name": "python",
   "nbconvert_exporter": "python",
   "pygments_lexer": "ipython3",
   "version": "3.10.6"
  }
 },
 "nbformat": 4,
 "nbformat_minor": 5
}
